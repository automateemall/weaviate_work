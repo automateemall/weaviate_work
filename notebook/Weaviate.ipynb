{
 "cells": [
  {
   "cell_type": "code",
   "execution_count": 5,
   "id": "80d01e5b-e2f7-4867-8be8-a03f640bf016",
   "metadata": {},
   "outputs": [
    {
     "name": "stdout",
     "output_type": "stream",
     "text": [
      "\u001b[33mWARNING: Running pip as the 'root' user can result in broken permissions and conflicting behaviour with the system package manager. It is recommended to use a virtual environment instead: https://pip.pypa.io/warnings/venv\u001b[0m\u001b[33m\n",
      "\u001b[0m\u001b[33mWARNING: Running pip as the 'root' user can result in broken permissions and conflicting behaviour with the system package manager. It is recommended to use a virtual environment instead: https://pip.pypa.io/warnings/venv\u001b[0m\u001b[33m\n",
      "\u001b[0m\u001b[33mWARNING: Running pip as the 'root' user can result in broken permissions and conflicting behaviour with the system package manager. It is recommended to use a virtual environment instead: https://pip.pypa.io/warnings/venv\u001b[0m\u001b[33m\n",
      "\u001b[0mdone\n"
     ]
    }
   ],
   "source": [
    "!pip install -qU --upgrade pip \n",
    "!pip install -qU \"weaviate-client==3.26.0\"\n",
    "!pip install -qU \"openai==0.27.7\"\n"
   ]
  },
  {
   "cell_type": "code",
   "execution_count": 6,
   "id": "493bf18d-4b92-42e0-8be5-f717054a32fc",
   "metadata": {},
   "outputs": [
    {
     "data": {
      "text/plain": [
       "True"
      ]
     },
     "execution_count": 6,
     "metadata": {},
     "output_type": "execute_result"
    }
   ],
   "source": [
    "import weaviate\n",
    "import json\n",
    "import os\n",
    "import sys\n",
    "import logging\n",
    "import openai\n",
    "\n",
    "openai_api_key=os.environ.get('OPENAI_API_KEY')\n",
    "file_path = '/home/jovyan/work/wiki.txt'\n",
    "limit = 3750\n",
    "\n",
    "# ログレベルの設定\n",
    "logging.basicConfig(stream=sys.stdout, level=logging.INFO, force=True)\n",
    "\n",
    "client = weaviate.Client(\n",
    "    # url = \"https://your-sandbox.weaviate.network\",  # Replace with your endpoint\n",
    "    url = \"http://weaviate:8080/\",  # Replace with your endpoint\n",
    "    # auth_client_secret=weaviate.AuthApiKey(api_key= weaviate_api_key),  # Replace w/ your Weaviate instance API key\n",
    "    additional_headers = {\n",
    "        \"X-OpenAI-Api-Key\": openai_api_key\n",
    "    }\n",
    ")\n",
    "\n",
    "client.is_ready()\n"
   ]
  },
  {
   "cell_type": "code",
   "execution_count": 7,
   "id": "592d0dc6-d715-42a8-b1cb-67569067c376",
   "metadata": {},
   "outputs": [],
   "source": [
    "client.schema.delete_class('Question')\n",
    "client.batch.empty_objects()\n",
    "\n",
    "class_obj = {\n",
    "    \"class\": \"Description\",\n",
    "    \"vectorizer\": \"text2vec-openai\",  # If set to \"none\" you must always provide vectors yourself. Could be any other \"text2vec-*\" also.\n",
    "    \"moduleConfig\": {\n",
    "        \"text2vec-openai\": {},\n",
    "        \"generative-openai\": {}  # Ensure the `generative-openai` module is used for generative queries\n",
    "    }\n",
    "}\n",
    "\n",
    "client.schema.create_class(class_obj)\n"
   ]
  },
  {
   "cell_type": "code",
   "execution_count": 8,
   "id": "87d18012-0327-4ac5-afb1-e75ddc4357e7",
   "metadata": {},
   "outputs": [],
   "source": [
    "# 配列を初期化\n",
    "texts = []\n",
    "\n",
    "# ファイルを開く\n",
    "with open(file_path, 'r') as file:\n",
    "    for line in file:\n",
    "        if len(line) > 3:\n",
    "            texts.append(line.strip())"
   ]
  },
  {
   "cell_type": "code",
   "execution_count": 9,
   "id": "31e85c44-68b6-4ae3-86d0-8f4146fdf7bd",
   "metadata": {},
   "outputs": [
    {
     "name": "stdout",
     "output_type": "stream",
     "text": [
      "importing description: 1\n",
      "importing description: 2\n",
      "importing description: 3\n",
      "importing description: 4\n",
      "importing description: 5\n",
      "importing description: 6\n",
      "importing description: 7\n",
      "importing description: 8\n",
      "importing description: 9\n",
      "importing description: 10\n",
      "importing description: 11\n",
      "importing description: 12\n",
      "importing description: 13\n",
      "importing description: 14\n",
      "importing description: 15\n",
      "importing description: 16\n",
      "importing description: 17\n",
      "importing description: 18\n",
      "importing description: 19\n",
      "importing description: 20\n",
      "importing description: 21\n",
      "importing description: 22\n",
      "importing description: 23\n",
      "importing description: 24\n",
      "importing description: 25\n",
      "importing description: 26\n",
      "importing description: 27\n",
      "importing description: 28\n",
      "importing description: 29\n",
      "importing description: 30\n",
      "importing description: 31\n",
      "importing description: 32\n",
      "importing description: 33\n",
      "importing description: 34\n",
      "importing description: 35\n",
      "importing description: 36\n",
      "importing description: 37\n",
      "importing description: 38\n",
      "importing description: 39\n",
      "importing description: 40\n",
      "importing description: 41\n",
      "importing description: 42\n",
      "importing description: 43\n"
     ]
    }
   ],
   "source": [
    "import requests\n",
    "import json\n",
    "# resp = requests.get('https://raw.githubusercontent.com/weaviate-tutorials/quickstart/main/data/jeopardy_tiny.json')\n",
    "# data = json.loads(resp.text)  # Load data\n",
    "\n",
    "client.batch.configure(batch_size=100)  # Configure batch\n",
    "with client.batch as batch:  # Initialize a batch process\n",
    "    for i, d in enumerate(texts):\n",
    "        print(f\"importing description: {i+1}\")\n",
    "        properties = {\n",
    "            \"description\": d\n",
    "            # \"answer\": d[\"Answer\"],\n",
    "            # \"question\": d[\"Question\"],\n",
    "            # \"category\": d[\"Category\"],\n",
    "        }\n",
    "        batch.add_data_object(\n",
    "            data_object=properties,\n",
    "            class_name=\"Description\"\n",
    "        )"
   ]
  },
  {
   "cell_type": "code",
   "execution_count": 14,
   "id": "0d58524d-be64-4998-abe5-1757ba499e25",
   "metadata": {},
   "outputs": [
    {
     "name": "stdout",
     "output_type": "stream",
     "text": [
      "Answer the question based on the context below.\n",
      "\n",
      "Context:\n",
      "青鬼は物語の主人公である。入間の村で雑貨屋さんを経営している。その昔は川で渡し船を営んでいた。青鬼はどんな洋服でもイメージするだけでつくることができる特殊能力を持っている。地味だがこの能力のお陰でピンチを切り抜けたことがある。主人公キャラと自分では思っていて、事件はいつも周りに巻き込まれて始まる事が多い。\n",
      "\n",
      "---\n",
      "\n",
      "青鬼は青鬼とおにぎり工場に行ったことがある。おにぎり工場にいくと、試食室があった、部屋に入ると服を脱いだり、体に塩を塗ったりと色々な指示をされる。おにぎり工場は実は、鬼を食べてしまう、鬼切りの工場だった。青鬼と赤鬼はなんとか逃げることができた。\n",
      "\n",
      "---\n",
      "\n",
      "カッパは川に住んでいる。青鬼の友達で、ときどき青鬼の船に載せてくれと頼んでくる。お金はちゃんと払ってくれるがいつもカッパの粘液でぬるぬるである。「ぬるぬる小判」の回では青鬼の盗まれた舟を一緒に探してくれ、殿様の小判を拾ってくれるが、カッパの粘液でぬるぬるだった。\n",
      "\n",
      "Question: 青鬼は昔渡船をやっていました。今はどんな仕事をやっているでしょうか？\n",
      "Answer:\n",
      "青鬼は入間の村で雑貨屋さんを経営している。\n"
     ]
    },
    {
     "data": {
      "text/plain": [
       "'青鬼は入間の村で雑貨屋さんを経営している。'"
      ]
     },
     "execution_count": 14,
     "metadata": {},
     "output_type": "execute_result"
    }
   ],
   "source": [
    "def retrieve(query):\n",
    "\n",
    "    response = (\n",
    "        client.query\n",
    "        .get(\"Description\", [\"description\"])\n",
    "        .with_near_text({\n",
    "            \"concepts\": [f\"{query}\"]\n",
    "        })\n",
    "        .with_limit(3)\n",
    "        .do()\n",
    "    )\n",
    "\n",
    "    x=json.dumps(response, indent=4).encode().decode('unicode_escape')\n",
    "    # print(x)\n",
    "    \n",
    "    # get relevant contexts\n",
    "    # contexts = [response['data']['Get']['Description']]\n",
    "    contexts = [\n",
    "        x['description'] for x in response['data']['Get']['Description']\n",
    "    ]\n",
    "\n",
    "    # build our prompt with the retrieved contexts included\n",
    "    prompt_start = (\n",
    "        \"Answer the question based on the context below.\\n\\n\"+\n",
    "        \"Context:\\n\"\n",
    "    )\n",
    "    prompt_end = (\n",
    "        f\"\\n\\nQuestion: {query}\\nAnswer:\"\n",
    "    )\n",
    "    prompt = []\n",
    "    # append contexts until hitting limit\n",
    "    for i in range(1, len(contexts)):\n",
    "        if len(\"\\n\\n---\\n\\n\".join(contexts[:i])) >= limit:\n",
    "            prompt = (\n",
    "                prompt_start +\n",
    "                \"\\n\\n---\\n\\n\".join(contexts[:i-1]) +\n",
    "                prompt_end\n",
    "            )\n",
    "            break\n",
    "        elif i == len(contexts)-1:\n",
    "            prompt = (\n",
    "                prompt_start +\n",
    "                \"\\n\\n---\\n\\n\".join(contexts) +\n",
    "                prompt_end\n",
    "            )\n",
    "    print(prompt)\n",
    "    return prompt\n",
    "\n",
    "def complete(prompt):\n",
    "    # query text-davinci-003\n",
    "    res = openai.Completion.create(\n",
    "        engine='text-davinci-003',\n",
    "        prompt=prompt,\n",
    "        temperature=0,\n",
    "        max_tokens=400,\n",
    "        top_p=1,\n",
    "        frequency_penalty=0,\n",
    "        presence_penalty=0,\n",
    "        stop=None\n",
    "    )\n",
    "    results = res['choices'][0]['text'].strip()\n",
    "    print(results)\n",
    "    return results\n",
    "\n",
    "prompt = retrieve('please write your question')\n",
    "complete(prompt)"
   ]
  }
 ],
 "metadata": {
  "kernelspec": {
   "display_name": "Python 3.10 (myenv)",
   "language": "python",
   "name": "myenv"
  },
  "language_info": {
   "codemirror_mode": {
    "name": "ipython",
    "version": 3
   },
   "file_extension": ".py",
   "mimetype": "text/x-python",
   "name": "python",
   "nbconvert_exporter": "python",
   "pygments_lexer": "ipython3",
   "version": "3.10.13"
  }
 },
 "nbformat": 4,
 "nbformat_minor": 5
}
